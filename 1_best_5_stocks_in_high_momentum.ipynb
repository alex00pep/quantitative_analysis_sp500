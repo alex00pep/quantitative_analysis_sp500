{
 "cells": [
  {
   "cell_type": "code",
   "execution_count": null,
   "metadata": {},
   "outputs": [],
   "source": [
    "import numpy as np\n",
    "import pandas as pd\n",
    "import matplotlib.pyplot as plt\n",
    "import yfinance as yf"
   ]
  },
  {
   "attachments": {},
   "cell_type": "markdown",
   "metadata": {},
   "source": [
    "### The idea is to select the first 5 high-quality momentum stocks from the S&P500 that performed better the last 1 year using momentum strategy\n"
   ]
  },
  {
   "cell_type": "code",
   "execution_count": null,
   "metadata": {},
   "outputs": [],
   "source": [
    "#import pandas_datareader as pdr\n",
    "import datetime as dt\n",
    "# Define the start and end dates for the data\n",
    "\n",
    "end_date = dt.datetime(2023, 1, 1)\n",
    "start_date = end_date - dt.timedelta(days=365)\n",
    "\n",
    "# Use the DataReader function from pandas_datareader to download the data\n",
    "#sp500_data = pdr.get_data_yahoo('^GSPC', start=start_date, end=end_date)\n",
    "\n",
    "# Extract just the 'Close' column from the data\n",
    "#sp500_close = sp500_data['Close']\n"
   ]
  },
  {
   "cell_type": "code",
   "execution_count": null,
   "metadata": {},
   "outputs": [],
   "source": [
    "# Just download Apple data from Yahoo Finance and create a dataframe of the close price during the time frame.\n",
    "Apple = yf.download('AAPL', start=start_date, end=end_date)\n",
    "Apple = Apple[['Close']].copy()\n",
    "Apple.dropna(inplace=True)\n",
    "Apple"
   ]
  },
  {
   "cell_type": "code",
   "execution_count": null,
   "metadata": {},
   "outputs": [],
   "source": [
    "Apple.info()"
   ]
  },
  {
   "cell_type": "code",
   "execution_count": null,
   "metadata": {},
   "outputs": [],
   "source": [
    "# Retrieve all individual stocks from S&P500\n",
    "import requests\n",
    "import pandas as pd\n",
    "\n",
    "# Define the URL to retrieve the list of stocks from Wikipedia\n",
    "url = 'https://en.wikipedia.org/wiki/List_of_S%26P_500_companies'\n",
    "\n",
    "# Use requests to retrieve the HTML data from the URL\n",
    "html_data = requests.get(url).text\n",
    "\n",
    "# Use pandas to read the HTML data and extract the table of stock data\n",
    "sp500_table = pd.read_html(html_data, header=0)[0]\n",
    "\n",
    "# Extract the 'Symbol' column from the table\n",
    "sp500_symbols = sp500_table['Symbol'].tolist()\n",
    "sp500_symbols"
   ]
  },
  {
   "cell_type": "code",
   "execution_count": null,
   "metadata": {},
   "outputs": [],
   "source": [
    "stocks = yf.download(sp500_symbols, start=start_date, end=end_date)\n",
    "stocks\n"
   ]
  },
  {
   "cell_type": "code",
   "execution_count": 134,
   "metadata": {},
   "outputs": [],
   "source": [
    "stocks.index = pd.to_datetime(stocks.index)"
   ]
  },
  {
   "cell_type": "code",
   "execution_count": null,
   "metadata": {},
   "outputs": [],
   "source": [
    "close = stocks[['Close']].copy()\n",
    "close.info()"
   ]
  },
  {
   "cell_type": "code",
   "execution_count": null,
   "metadata": {},
   "outputs": [],
   "source": [
    "close.iloc[-1].to_list()"
   ]
  },
  {
   "cell_type": "code",
   "execution_count": null,
   "metadata": {},
   "outputs": [],
   "source": [
    "close = stocks.loc[:,'Close'].copy()\n",
    "close.info()"
   ]
  },
  {
   "cell_type": "code",
   "execution_count": null,
   "metadata": {},
   "outputs": [],
   "source": [
    "statistics = close.describe()\n",
    "statistics.info()"
   ]
  },
  {
   "cell_type": "code",
   "execution_count": null,
   "metadata": {},
   "outputs": [],
   "source": [
    "statistics"
   ]
  },
  {
   "cell_type": "code",
   "execution_count": null,
   "metadata": {},
   "outputs": [],
   "source": [
    "Apple.mean()"
   ]
  },
  {
   "cell_type": "code",
   "execution_count": null,
   "metadata": {},
   "outputs": [],
   "source": [
    "statistics.iloc[1,3]"
   ]
  },
  {
   "cell_type": "code",
   "execution_count": null,
   "metadata": {},
   "outputs": [],
   "source": [
    "apple_close = close.AAPL.copy().to_frame()\n",
    "apple_close"
   ]
  },
  {
   "cell_type": "code",
   "execution_count": null,
   "metadata": {},
   "outputs": [],
   "source": [
    "apple_close['Open'] = apple_close.shift(periods=1)\n",
    "apple_close.rename(columns={'AAPL':'Close'}, inplace=True)\n",
    "apple_close[\"Diff\"] = apple_close.Close.sub(apple_close.Open)\n",
    "apple_close[\"% Daily Change\"] = apple_close.Close.pct_change().mul(100)\n",
    "\n",
    "apple_close.dropna(inplace=True)\n",
    "apple_close"
   ]
  },
  {
   "cell_type": "code",
   "execution_count": null,
   "metadata": {},
   "outputs": [],
   "source": [
    "# Apple stock, monthly returns\n",
    "monthly_returns = apple_close.Close.resample('BM').last().pct_change().mul(100)\n",
    "monthly_returns.dropna(inplace=True)\n",
    "monthly_returns"
   ]
  },
  {
   "cell_type": "code",
   "execution_count": null,
   "metadata": {},
   "outputs": [],
   "source": [
    "# Apple stock, yearly returns\n",
    "yearly_returns = apple_close.Close.resample('Y').last().pct_change().mul(100)\n",
    "yearly_returns.dropna(inplace=True)\n",
    "yearly_returns"
   ]
  },
  {
   "cell_type": "code",
   "execution_count": null,
   "metadata": {},
   "outputs": [],
   "source": [
    "yearly_returns.info()"
   ]
  },
  {
   "attachments": {},
   "cell_type": "markdown",
   "metadata": {},
   "source": [
    "#### Select only the first 5 highest-momentum stocks in the S&P 500. We will calculate the 1-year price return as the percentage change in the 'Close' column. Then we will sort the DataFrame by that new column."
   ]
  },
  {
   "cell_type": "code",
   "execution_count": null,
   "metadata": {},
   "outputs": [],
   "source": [
    "close.columns"
   ]
  },
  {
   "cell_type": "code",
   "execution_count": null,
   "metadata": {},
   "outputs": [],
   "source": [
    "# Calculate the 1-year price return as the percentage change in the 'Close' price\n",
    "yearly_returns = close.resample('Y').last().pct_change().mul(100)\n",
    "yearly_returns"
   ]
  },
  {
   "cell_type": "code",
   "execution_count": null,
   "metadata": {},
   "outputs": [],
   "source": [
    "yearly_returns.loc[:,'AAPL'][-1]"
   ]
  },
  {
   "cell_type": "code",
   "execution_count": null,
   "metadata": {},
   "outputs": [],
   "source": [
    "# Resample or Summarize Time Series Data - Daily to Yearly\n",
    "apple_data_yearly = close.AAPL.resample('Y').last().to_frame()\n",
    "apple_data_yearly"
   ]
  },
  {
   "cell_type": "code",
   "execution_count": null,
   "metadata": {},
   "outputs": [],
   "source": [
    "# Calculate the 1-year price return as the percentage change in the 'Close' price\n",
    "last_year_return = (apple_data_yearly[\"AAPL\"][-1] - apple_data_yearly[\"AAPL\"][0]) / apple_data_yearly[\"AAPL\"][0] * 100\n",
    "last_year_return"
   ]
  },
  {
   "cell_type": "code",
   "execution_count": null,
   "metadata": {},
   "outputs": [],
   "source": [
    "# Resample or Summarize Time Series Data - Daily to every 6 Months\n",
    "apple_data_6m = close.AAPL.resample('6M').last()\n",
    "apple_data_6m"
   ]
  },
  {
   "cell_type": "code",
   "execution_count": null,
   "metadata": {},
   "outputs": [],
   "source": [
    "apple_data_6m.pct_change().mul(100)"
   ]
  },
  {
   "cell_type": "code",
   "execution_count": null,
   "metadata": {},
   "outputs": [],
   "source": [
    "close.loc[:,'AAPL'][-1]"
   ]
  },
  {
   "cell_type": "code",
   "execution_count": null,
   "metadata": {},
   "outputs": [],
   "source": [
    "tickers = close.columns.to_list()"
   ]
  },
  {
   "attachments": {},
   "cell_type": "markdown",
   "metadata": {},
   "source": [
    "### Lets select the first 5 stocks based on a very basic Momentum Strategy (only looking at the last year price return).\n",
    "Remember we will calculate the one-year price return for each stock, and return the top 5 performers with the best price return in one year."
   ]
  },
  {
   "cell_type": "code",
   "execution_count": null,
   "metadata": {},
   "outputs": [],
   "source": [
    "data = {\"Tickers\": tickers, \n",
    "        \"Close Price\": close.iloc[-1].to_list(), \n",
    "        \"One-Year Return\": yearly_returns.iloc[-1].to_list(), \n",
    "        \"Number of Shares To Buy\": [100] * len(tickers)}"
   ]
  },
  {
   "cell_type": "code",
   "execution_count": null,
   "metadata": {},
   "outputs": [],
   "source": [
    "initial_dataframe = pd.DataFrame(data, columns=[\"Tickers\", \"Close Price\", \"One-Year Return\", \"Number of Shares To Buy\"])\n",
    "initial_dataframe"
   ]
  },
  {
   "cell_type": "code",
   "execution_count": null,
   "metadata": {},
   "outputs": [],
   "source": [
    "initial_dataframe.sort_values(by=\"One-Year Return\", ascending=False, inplace=True, ignore_index=True)\n",
    "initial_dataframe = initial_dataframe[:5]\n",
    "initial_dataframe.reset_index(inplace=True,drop=True)\n",
    "initial_dataframe"
   ]
  },
  {
   "attachments": {},
   "cell_type": "markdown",
   "metadata": {},
   "source": [
    "## Building a better (more realistic) Momentum Strategy"
   ]
  },
  {
   "attachments": {},
   "cell_type": "markdown",
   "metadata": {},
   "source": [
    "Real-world quantitative investment firms differentiate between \"High quality\" and \"low quality\" momentum stocks.\n",
    "\n",
    "Lets start by building our DataFrame. You'll notice that i use the abbreviation hqm often, it stands for high-quality momentum."
   ]
  },
  {
   "cell_type": "code",
   "execution_count": null,
   "metadata": {},
   "outputs": [],
   "source": [
    "hqm_columns = [\"Ticker\", \"Price\", \"Number of Shares to Buy\", \n",
    "               \"One-Year Price Return\", \"One-Year Return Percentile\", \n",
    "               \"Six-Month Price Return\", \"Six-Month Return Percentile\",\n",
    "               \"Three-Month Price Return\", \"Three-Month Return Percentile\",\n",
    "               \"One-Month Price Return\", \"One-Month Return Percentile\"]\n"
   ]
  },
  {
   "cell_type": "code",
   "execution_count": 150,
   "metadata": {},
   "outputs": [],
   "source": [
    "\n",
    "from scipy.stats import percentileofscore\n",
    "\n",
    "def get_price_return_and_percentile(tickers_data: pd.DataFrame, ticker: str):\n",
    "    \"\"\"Receives only close price data\"\"\"   \n",
    "\n",
    "    # Calculate the price return as the percentage change in the ticker column\n",
    "    price_return = (tickers_data[ticker][-1] - tickers_data[ticker][0]) / tickers_data[ticker][0] * 100\n",
    "\n",
    "    # Calculate the return percentile using the scipy.stats.percentileofscore function\n",
    "    returns = tickers_data[ticker].pct_change().dropna() * 100\n",
    "    return_percentile = percentileofscore(returns, price_return)\n",
    "\n",
    "    # Round the return percentile to two decimal places\n",
    "    return price_return, round(return_percentile, 2)\n"
   ]
  },
  {
   "cell_type": "code",
   "execution_count": 166,
   "metadata": {},
   "outputs": [],
   "source": [
    "def download_close_price_data(tickers: list, start_date, end_date):\n",
    "    \"\"\"\n",
    "    Download data for multiple tickers, and returns only Close price\n",
    "    \"\"\"\n",
    "    # Use the Yahoo Finance library function to download the data for symbol/ticker\n",
    "    stocks_data = yf.download(tickers, start=start_date, end=end_date, progress=False, repair = True)\n",
    "    close = stocks_data['Close'].copy()\n",
    "    return close\n"
   ]
  },
  {
   "cell_type": "code",
   "execution_count": 167,
   "metadata": {},
   "outputs": [
    {
     "name": "stderr",
     "output_type": "stream",
     "text": [
      "ERROR \n",
      "2 Failed downloads:\n",
      "ERROR ['BF.B']: Exception('BF.B: No price data found, symbol may be delisted (1d 2022-01-01 00:00:00 -> 2023-01-01 00:00:00)')\n",
      "ERROR ['BRK.B']: Exception('BRK.B: No timezone found, symbol may be delisted')\n",
      "ERROR \n",
      "3 Failed downloads:\n",
      "ERROR ['BF.B']: Exception('BF.B: No price data found, symbol may be delisted (1d 2022-07-05 00:00:00 -> 2023-01-01 00:00:00)')\n",
      "ERROR ['BRK.B']: Exception('BRK.B: No timezone found, symbol may be delisted')\n",
      "ERROR ['VRSN']: Exception('VRSN: No price data found, symbol may be delisted (1d 2022-07-05 00:00:00 -> 2023-01-01 00:00:00)')\n",
      "ERROR \n",
      "2 Failed downloads:\n",
      "ERROR ['BF.B']: Exception('BF.B: No price data found, symbol may be delisted (1d 2022-10-03 00:00:00 -> 2023-01-01 00:00:00)')\n",
      "ERROR ['BRK.B']: Exception('BRK.B: No timezone found, symbol may be delisted')\n",
      "ERROR \n",
      "2 Failed downloads:\n",
      "ERROR ['BF.B']: Exception('BF.B: No price data found, symbol may be delisted (1d 2022-12-02 00:00:00 -> 2023-01-01 00:00:00)')\n",
      "ERROR ['BRK.B']: Exception('BRK.B: No timezone found, symbol may be delisted')\n"
     ]
    }
   ],
   "source": [
    "import datetime as dt\n",
    "data = []\n",
    "\n",
    "# Define start and end for 1-year period\n",
    "end_date = dt.datetime(2023, 1, 1)\n",
    "start_date = end_date - dt.timedelta(days=365)\n",
    "\n",
    "one_year_data = download_close_price_data(sp500_symbols, start_date, end_date)\n",
    "\n",
    "# Define start and end for 6-month period\n",
    "end_date = dt.datetime(2023, 1, 1)\n",
    "start_date = end_date - dt.timedelta(days=180)\n",
    "\n",
    "six_month_data = download_close_price_data(sp500_symbols, start_date, end_date)\n",
    "\n",
    "# Define start and end for 3-month period\n",
    "end_date = dt.datetime(2023, 1, 1)\n",
    "start_date = end_date - dt.timedelta(days=90)\n",
    "\n",
    "three_month_data = download_close_price_data(sp500_symbols, start_date, end_date)\n",
    "\n",
    "# Define start and end for 1-month period\n",
    "end_date = dt.datetime(2023, 1, 1)\n",
    "start_date = end_date - dt.timedelta(days=30)\n",
    "\n",
    "one_month_data = download_close_price_data(sp500_symbols, start_date, end_date)\n"
   ]
  },
  {
   "cell_type": "code",
   "execution_count": 168,
   "metadata": {},
   "outputs": [],
   "source": [
    "\n",
    "for ticker in sp500_symbols:\n",
    "    try:\n",
    "        return_1year, percentile_1year = get_price_return_and_percentile(one_year_data, ticker)\n",
    "        \n",
    "        return_6month, percentile_6month = get_price_return_and_percentile(six_month_data, ticker)\n",
    "        \n",
    "        return_3month, percentile_3month = get_price_return_and_percentile(three_month_data, ticker)\n",
    "        return_1month, percentile_1month = get_price_return_and_percentile(one_month_data, ticker)\n",
    "\n",
    "        data.append({\n",
    "            'Ticker': ticker, \n",
    "            'Price': close[ticker][-1],            \n",
    "            'One-Year Price Return': return_1year, \n",
    "            'Six-Month Price Return': return_6month, \n",
    "            'Three-Month Price Return': return_3month, \n",
    "            'One-Month Price Return': return_1month,\n",
    "            'One-Year Return Percentile': percentile_1year, \n",
    "            'Six-Month Return Percentile': percentile_6month, \n",
    "            'Three-Month Return Percentile': percentile_3month, \n",
    "            'One-Month Return Percentile': percentile_1month\n",
    "            })\n",
    "    except Exception as e:\n",
    "        print(e)"
   ]
  },
  {
   "cell_type": "code",
   "execution_count": 169,
   "metadata": {},
   "outputs": [
    {
     "data": {
      "text/plain": [
       "Date\n",
       "2021-12-31    177.570007\n",
       "2022-01-03    182.009995\n",
       "2022-01-04    179.699997\n",
       "2022-01-05    174.919998\n",
       "2022-01-06    172.000000\n",
       "                 ...    \n",
       "2022-12-23    131.860001\n",
       "2022-12-27    130.029999\n",
       "2022-12-28    126.040001\n",
       "2022-12-29    129.610001\n",
       "2022-12-30    129.929993\n",
       "Name: AAPL, Length: 252, dtype: float64"
      ]
     },
     "execution_count": 169,
     "metadata": {},
     "output_type": "execute_result"
    }
   ],
   "source": [
    "stocks['Close'].copy().AAPL"
   ]
  },
  {
   "cell_type": "code",
   "execution_count": 170,
   "metadata": {},
   "outputs": [
    {
     "data": {
      "text/html": [
       "<div>\n",
       "<style scoped>\n",
       "    .dataframe tbody tr th:only-of-type {\n",
       "        vertical-align: middle;\n",
       "    }\n",
       "\n",
       "    .dataframe tbody tr th {\n",
       "        vertical-align: top;\n",
       "    }\n",
       "\n",
       "    .dataframe thead th {\n",
       "        text-align: right;\n",
       "    }\n",
       "</style>\n",
       "<table border=\"1\" class=\"dataframe\">\n",
       "  <thead>\n",
       "    <tr style=\"text-align: right;\">\n",
       "      <th></th>\n",
       "      <th>Ticker</th>\n",
       "      <th>Price</th>\n",
       "      <th>Number of Shares to Buy</th>\n",
       "      <th>One-Year Price Return</th>\n",
       "      <th>One-Year Return Percentile</th>\n",
       "      <th>Six-Month Price Return</th>\n",
       "      <th>Six-Month Return Percentile</th>\n",
       "      <th>Three-Month Price Return</th>\n",
       "      <th>Three-Month Return Percentile</th>\n",
       "      <th>One-Month Price Return</th>\n",
       "      <th>One-Month Return Percentile</th>\n",
       "    </tr>\n",
       "  </thead>\n",
       "  <tbody>\n",
       "    <tr>\n",
       "      <th>0</th>\n",
       "      <td>MMM</td>\n",
       "      <td>119.919998</td>\n",
       "      <td>NaN</td>\n",
       "      <td>-32.530666</td>\n",
       "      <td>0.0</td>\n",
       "      <td>-7.189852</td>\n",
       "      <td>0.8</td>\n",
       "      <td>5.917680</td>\n",
       "      <td>100.00</td>\n",
       "      <td>-5.567367</td>\n",
       "      <td>0.00</td>\n",
       "    </tr>\n",
       "    <tr>\n",
       "      <th>1</th>\n",
       "      <td>AOS</td>\n",
       "      <td>57.240002</td>\n",
       "      <td>NaN</td>\n",
       "      <td>-31.506519</td>\n",
       "      <td>0.0</td>\n",
       "      <td>-0.261366</td>\n",
       "      <td>47.2</td>\n",
       "      <td>13.055502</td>\n",
       "      <td>100.00</td>\n",
       "      <td>-5.200396</td>\n",
       "      <td>0.00</td>\n",
       "    </tr>\n",
       "    <tr>\n",
       "      <th>2</th>\n",
       "      <td>ABT</td>\n",
       "      <td>109.790001</td>\n",
       "      <td>NaN</td>\n",
       "      <td>-21.037107</td>\n",
       "      <td>0.0</td>\n",
       "      <td>0.448305</td>\n",
       "      <td>67.2</td>\n",
       "      <td>10.319538</td>\n",
       "      <td>100.00</td>\n",
       "      <td>1.572768</td>\n",
       "      <td>78.95</td>\n",
       "    </tr>\n",
       "    <tr>\n",
       "      <th>3</th>\n",
       "      <td>ABBV</td>\n",
       "      <td>161.610001</td>\n",
       "      <td>NaN</td>\n",
       "      <td>19.339834</td>\n",
       "      <td>100.0</td>\n",
       "      <td>4.989286</td>\n",
       "      <td>100.0</td>\n",
       "      <td>16.837762</td>\n",
       "      <td>100.00</td>\n",
       "      <td>-1.252599</td>\n",
       "      <td>10.53</td>\n",
       "    </tr>\n",
       "    <tr>\n",
       "      <th>4</th>\n",
       "      <td>ACN</td>\n",
       "      <td>266.839996</td>\n",
       "      <td>NaN</td>\n",
       "      <td>-34.471157</td>\n",
       "      <td>0.0</td>\n",
       "      <td>-3.027226</td>\n",
       "      <td>6.4</td>\n",
       "      <td>0.736148</td>\n",
       "      <td>67.74</td>\n",
       "      <td>-11.091863</td>\n",
       "      <td>0.00</td>\n",
       "    </tr>\n",
       "    <tr>\n",
       "      <th>...</th>\n",
       "      <td>...</td>\n",
       "      <td>...</td>\n",
       "      <td>...</td>\n",
       "      <td>...</td>\n",
       "      <td>...</td>\n",
       "      <td>...</td>\n",
       "      <td>...</td>\n",
       "      <td>...</td>\n",
       "      <td>...</td>\n",
       "      <td>...</td>\n",
       "      <td>...</td>\n",
       "    </tr>\n",
       "    <tr>\n",
       "      <th>498</th>\n",
       "      <td>YUM</td>\n",
       "      <td>128.080002</td>\n",
       "      <td>NaN</td>\n",
       "      <td>-6.189114</td>\n",
       "      <td>0.0</td>\n",
       "      <td>9.162192</td>\n",
       "      <td>100.0</td>\n",
       "      <td>17.386125</td>\n",
       "      <td>100.00</td>\n",
       "      <td>-1.233799</td>\n",
       "      <td>15.79</td>\n",
       "    </tr>\n",
       "    <tr>\n",
       "      <th>499</th>\n",
       "      <td>ZBRA</td>\n",
       "      <td>256.410004</td>\n",
       "      <td>NaN</td>\n",
       "      <td>-56.086660</td>\n",
       "      <td>0.0</td>\n",
       "      <td>-15.188696</td>\n",
       "      <td>0.8</td>\n",
       "      <td>-5.762796</td>\n",
       "      <td>1.61</td>\n",
       "      <td>-6.712502</td>\n",
       "      <td>0.00</td>\n",
       "    </tr>\n",
       "    <tr>\n",
       "      <th>500</th>\n",
       "      <td>ZBH</td>\n",
       "      <td>127.500000</td>\n",
       "      <td>NaN</td>\n",
       "      <td>1.699835</td>\n",
       "      <td>82.4</td>\n",
       "      <td>19.281505</td>\n",
       "      <td>100.0</td>\n",
       "      <td>18.803578</td>\n",
       "      <td>100.00</td>\n",
       "      <td>3.683824</td>\n",
       "      <td>100.00</td>\n",
       "    </tr>\n",
       "    <tr>\n",
       "      <th>501</th>\n",
       "      <td>ZION</td>\n",
       "      <td>49.160000</td>\n",
       "      <td>NaN</td>\n",
       "      <td>-23.474468</td>\n",
       "      <td>0.0</td>\n",
       "      <td>-3.758813</td>\n",
       "      <td>4.0</td>\n",
       "      <td>-5.841791</td>\n",
       "      <td>1.61</td>\n",
       "      <td>-5.913876</td>\n",
       "      <td>5.26</td>\n",
       "    </tr>\n",
       "    <tr>\n",
       "      <th>502</th>\n",
       "      <td>ZTS</td>\n",
       "      <td>146.550003</td>\n",
       "      <td>NaN</td>\n",
       "      <td>-37.379821</td>\n",
       "      <td>0.0</td>\n",
       "      <td>-15.896698</td>\n",
       "      <td>0.0</td>\n",
       "      <td>-3.171459</td>\n",
       "      <td>4.84</td>\n",
       "      <td>-6.905092</td>\n",
       "      <td>0.00</td>\n",
       "    </tr>\n",
       "  </tbody>\n",
       "</table>\n",
       "<p>503 rows × 11 columns</p>\n",
       "</div>"
      ],
      "text/plain": [
       "    Ticker       Price  Number of Shares to Buy  One-Year Price Return  \\\n",
       "0      MMM  119.919998                      NaN             -32.530666   \n",
       "1      AOS   57.240002                      NaN             -31.506519   \n",
       "2      ABT  109.790001                      NaN             -21.037107   \n",
       "3     ABBV  161.610001                      NaN              19.339834   \n",
       "4      ACN  266.839996                      NaN             -34.471157   \n",
       "..     ...         ...                      ...                    ...   \n",
       "498    YUM  128.080002                      NaN              -6.189114   \n",
       "499   ZBRA  256.410004                      NaN             -56.086660   \n",
       "500    ZBH  127.500000                      NaN               1.699835   \n",
       "501   ZION   49.160000                      NaN             -23.474468   \n",
       "502    ZTS  146.550003                      NaN             -37.379821   \n",
       "\n",
       "     One-Year Return Percentile  Six-Month Price Return  \\\n",
       "0                           0.0               -7.189852   \n",
       "1                           0.0               -0.261366   \n",
       "2                           0.0                0.448305   \n",
       "3                         100.0                4.989286   \n",
       "4                           0.0               -3.027226   \n",
       "..                          ...                     ...   \n",
       "498                         0.0                9.162192   \n",
       "499                         0.0              -15.188696   \n",
       "500                        82.4               19.281505   \n",
       "501                         0.0               -3.758813   \n",
       "502                         0.0              -15.896698   \n",
       "\n",
       "     Six-Month Return Percentile  Three-Month Price Return  \\\n",
       "0                            0.8                  5.917680   \n",
       "1                           47.2                 13.055502   \n",
       "2                           67.2                 10.319538   \n",
       "3                          100.0                 16.837762   \n",
       "4                            6.4                  0.736148   \n",
       "..                           ...                       ...   \n",
       "498                        100.0                 17.386125   \n",
       "499                          0.8                 -5.762796   \n",
       "500                        100.0                 18.803578   \n",
       "501                          4.0                 -5.841791   \n",
       "502                          0.0                 -3.171459   \n",
       "\n",
       "     Three-Month Return Percentile  One-Month Price Return  \\\n",
       "0                           100.00               -5.567367   \n",
       "1                           100.00               -5.200396   \n",
       "2                           100.00                1.572768   \n",
       "3                           100.00               -1.252599   \n",
       "4                            67.74              -11.091863   \n",
       "..                             ...                     ...   \n",
       "498                         100.00               -1.233799   \n",
       "499                           1.61               -6.712502   \n",
       "500                         100.00                3.683824   \n",
       "501                           1.61               -5.913876   \n",
       "502                           4.84               -6.905092   \n",
       "\n",
       "     One-Month Return Percentile  \n",
       "0                           0.00  \n",
       "1                           0.00  \n",
       "2                          78.95  \n",
       "3                          10.53  \n",
       "4                           0.00  \n",
       "..                           ...  \n",
       "498                        15.79  \n",
       "499                         0.00  \n",
       "500                       100.00  \n",
       "501                         5.26  \n",
       "502                         0.00  \n",
       "\n",
       "[503 rows x 11 columns]"
      ]
     },
     "execution_count": 170,
     "metadata": {},
     "output_type": "execute_result"
    }
   ],
   "source": [
    "hqm_dataframe = pd.DataFrame(data, columns=hqm_columns)\n",
    "hqm_dataframe"
   ]
  }
 ],
 "metadata": {
  "kernelspec": {
   "display_name": "Python 3 (ipykernel)",
   "language": "python",
   "name": "python3"
  },
  "language_info": {
   "codemirror_mode": {
    "name": "ipython",
    "version": 3
   },
   "file_extension": ".py",
   "mimetype": "text/x-python",
   "name": "python",
   "nbconvert_exporter": "python",
   "pygments_lexer": "ipython3",
   "version": "3.11.4"
  },
  "orig_nbformat": 4,
  "vscode": {
   "interpreter": {
    "hash": "3107ee7e48c87bc0659fdfa1e5e48f81abb78cf8d4b3aa059a62b014212b10ba"
   }
  }
 },
 "nbformat": 4,
 "nbformat_minor": 2
}
